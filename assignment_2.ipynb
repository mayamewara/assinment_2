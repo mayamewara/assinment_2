{
 "cells": [
  {
   "cell_type": "markdown",
   "id": "64e692c3-eca5-42b4-ab7a-2ce1077207ed",
   "metadata": {},
   "source": [
    "Q.1 "
   ]
  },
  {
   "cell_type": "markdown",
   "id": "2d6baeea-110e-4ba4-81f8-a6cd10172915",
   "metadata": {},
   "source": [
    ":- def keyword is used to create a function"
   ]
  },
  {
   "cell_type": "code",
   "execution_count": 10,
   "id": "b8ea19cd-23e4-426c-b268-d16a463b67fc",
   "metadata": {},
   "outputs": [],
   "source": [
    "def odd_number() :\n",
    "    l = []\n",
    "    for i in range(1,26) :\n",
    "        if i % 2 !=0 :\n",
    "            l.append(i)\n",
    "    return l         \n",
    "            \n",
    "        \n"
   ]
  },
  {
   "cell_type": "code",
   "execution_count": 11,
   "id": "6241f095-c3dc-4431-8799-0f8a6c9e94cd",
   "metadata": {},
   "outputs": [
    {
     "data": {
      "text/plain": [
       "[1, 3, 5, 7, 9, 11, 13, 15, 17, 19, 21, 23, 25]"
      ]
     },
     "execution_count": 11,
     "metadata": {},
     "output_type": "execute_result"
    }
   ],
   "source": [
    "odd_number()"
   ]
  },
  {
   "cell_type": "markdown",
   "id": "79c91a24-1828-4237-8b79-9b1242726f86",
   "metadata": {},
   "source": [
    " Q.2"
   ]
  },
  {
   "cell_type": "markdown",
   "id": "063ec8b8-ccfe-4222-bea5-893f960f079a",
   "metadata": {},
   "source": [
    "*args -> args is used to pass a variable number of positional argumenst to a function,which are then collected into a tuple inside the function\n",
    "*args and **kwargs is optional, and you can name them differently. The asterisks (*) are what make them special and indicate that they should capture the variable-length arguments."
   ]
  },
  {
   "cell_type": "code",
   "execution_count": null,
   "id": "1ce8d950-7c4e-410d-b1c1-88c6bd9f5962",
   "metadata": {},
   "outputs": [],
   "source": []
  },
  {
   "cell_type": "code",
   "execution_count": 6,
   "id": "b663f259-dcf2-446d-a12b-895f3a8b81b6",
   "metadata": {},
   "outputs": [],
   "source": [
    "def percentage(*args) :\n",
    "    sum = 0\n",
    "    for i in args :\n",
    "        sum = sum+i\n",
    "        avg = sum/len(args)\n",
    "    print(\"average =\", avg)\n",
    "        \n",
    "    "
   ]
  },
  {
   "cell_type": "code",
   "execution_count": 8,
   "id": "3ad30905-4eb6-48ce-97ba-ce76066d1692",
   "metadata": {},
   "outputs": [
    {
     "name": "stdout",
     "output_type": "stream",
     "text": [
      "average = 83.33333333333333\n"
     ]
    }
   ],
   "source": [
    "percentage(96,59,95)"
   ]
  },
  {
   "cell_type": "code",
   "execution_count": null,
   "id": "1701d1dc-16a0-4cb1-a171-fad0f81d80ec",
   "metadata": {},
   "outputs": [],
   "source": [
    "**kwargs -> kwargs is used to pass a variable number of keyword arguments to a function,which are then collected into a dict inside thhe function"
   ]
  },
  {
   "cell_type": "code",
   "execution_count": 8,
   "id": "62e23f8b-9187-403a-a59a-67cf7f14717d",
   "metadata": {},
   "outputs": [],
   "source": [
    "def student(**kwargs) :\n",
    "    for key,value in kwargs.items() :\n",
    "        print(key,value )\n",
    "        \n",
    "    \n",
    "    "
   ]
  },
  {
   "cell_type": "code",
   "execution_count": 9,
   "id": "448c78cf-1e87-496b-b58e-592deafd6e0c",
   "metadata": {},
   "outputs": [
    {
     "name": "stdout",
     "output_type": "stream",
     "text": [
      "name maya\n",
      "age 23\n",
      "city bhilwara\n"
     ]
    }
   ],
   "source": [
    "student(name=\"maya\",age=23, city=\"bhilwara\")\n",
    "    "
   ]
  },
  {
   "cell_type": "markdown",
   "id": "315c144d-9517-4034-9f68-254c158831dc",
   "metadata": {},
   "source": [
    "Q.3"
   ]
  },
  {
   "cell_type": "markdown",
   "id": "2539c43e-c697-49ed-aaee-b5c2091f51cb",
   "metadata": {},
   "source": [
    "ITERATOR-> an iterator is an object that represents a stream of data. It provides a way to iterate through a sequence of data, one element at a time, without the need to store the entire sequence in memory.\n",
    "\n",
    "To initialize an iterator object, we use the iter() method, which takes an iterable object (such as a list, tuple, or dictionary) as an argument and returns an iterator object. Once we have the iterator object, we can use the next() method to retrieve the next element in the sequence.\n",
    "\n"
   ]
  },
  {
   "cell_type": "code",
   "execution_count": 18,
   "id": "8fa88081-c4f8-4812-b0f2-d4d494bbf41e",
   "metadata": {},
   "outputs": [
    {
     "name": "stdout",
     "output_type": "stream",
     "text": [
      "2\n",
      "4\n",
      "6\n",
      "8\n",
      "10\n"
     ]
    }
   ],
   "source": [
    "my_list = [2,4,6,8,10,12,14,16,18,20]\n",
    "my_iterator = iter(my_list)\n",
    "  \n",
    "print(next(my_iterator)) \n",
    "print(next(my_iterator)) \n",
    "print(next(my_iterator)) \n",
    "print(next(my_iterator)) \n",
    "print(next(my_iterator)) "
   ]
  },
  {
   "cell_type": "markdown",
   "id": "e39620b7-1ff2-4e89-b95e-4452fd149a91",
   "metadata": {},
   "source": [
    "Q.4"
   ]
  },
  {
   "cell_type": "markdown",
   "id": "9010a156-653e-45f3-9893-675c90fc4635",
   "metadata": {},
   "source": [
    "GENRATOR-> it generates a sequence of values on-the-fly, instead of storing them in memory all at once. Generators are created using generator functions or generator expressions.\n",
    "\n",
    "YIELD -> A generator function is defined like a regular function, but it uses the keyword yield instead of return to produce a series of values. When a generator function is called, it returns a generator object, which can be used to iterate over the values generated by the function."
   ]
  },
  {
   "cell_type": "code",
   "execution_count": 2,
   "id": "03383a5c-c33f-449d-b0a8-55c5ba97cba9",
   "metadata": {},
   "outputs": [],
   "source": [
    "def fibbonacci(n):\n",
    "    a,b = 0,1\n",
    "    for i in range(n):\n",
    "        yield a\n",
    "        a,b = b,a+b\n",
    "        \n",
    "    "
   ]
  },
  {
   "cell_type": "code",
   "execution_count": 4,
   "id": "c79265ab-c894-4814-bb11-15c40ad371ac",
   "metadata": {},
   "outputs": [
    {
     "name": "stdout",
     "output_type": "stream",
     "text": [
      "0\n",
      "1\n",
      "1\n",
      "2\n",
      "3\n",
      "5\n",
      "8\n",
      "13\n",
      "21\n",
      "34\n"
     ]
    }
   ],
   "source": [
    "for i in fibbonacci(10) :\n",
    "    print(i)\n"
   ]
  },
  {
   "cell_type": "markdown",
   "id": "5823a71e-994a-4614-8a89-d435ff730502",
   "metadata": {},
   "source": [
    "Q.5"
   ]
  },
  {
   "cell_type": "markdown",
   "id": "be5e0c29-76c5-4edf-acd4-c940f7d91b1a",
   "metadata": {},
   "source": [
    "PRIMES = 0,1 and negative number is not prime\n"
   ]
  },
  {
   "cell_type": "code",
   "execution_count": 1,
   "id": "6559cffe-a2b5-400b-8c55-3c438dcdb7d1",
   "metadata": {},
   "outputs": [
    {
     "name": "stdout",
     "output_type": "stream",
     "text": [
      "2\n",
      "3\n",
      "5\n",
      "7\n",
      "11\n",
      "13\n",
      "17\n",
      "19\n",
      "23\n",
      "29\n",
      "31\n",
      "37\n",
      "41\n",
      "43\n",
      "47\n",
      "53\n",
      "59\n",
      "61\n",
      "67\n",
      "71\n"
     ]
    }
   ],
   "source": [
    "def primes():\n",
    "    \"\"\"Generator function that yields prime numbers less than 1000.\"\"\"\n",
    "    primes = []\n",
    "    for num in range(2, 1000):\n",
    "        for i in range(2, num):\n",
    "            if num % i == 0:\n",
    "                break\n",
    "        else:\n",
    "            primes.append(num)\n",
    "            yield num\n",
    "\n",
    "\n",
    "num_primes = 20\n",
    "prime_generator = primes()\n",
    "for i in range(num_primes):\n",
    "    print(next(prime_generator))"
   ]
  },
  {
   "cell_type": "markdown",
   "id": "f1592f8d-c818-4f30-8e76-0757e21a0961",
   "metadata": {},
   "source": [
    "Q.6 Fibonacci number\n"
   ]
  },
  {
   "cell_type": "code",
   "execution_count": 8,
   "id": "2f71b5d7-dd91-4816-87a6-28b323c66766",
   "metadata": {},
   "outputs": [],
   "source": [
    "\n",
    "# intialize variable \n",
    "def fib():\n",
    "    a = 0\n",
    "    b = 1 \n",
    "    count = 0\n",
    "    while 10 > count :\n",
    "       #     separated by space\n",
    "        # print(a, end=' ') \n",
    "          print(a)\n",
    "   # update fibonacci sequence by swapping    \n",
    "          a,b = b,a+b\n",
    "          count = count +1\n",
    "    \n",
    "         "
   ]
  },
  {
   "cell_type": "code",
   "execution_count": 9,
   "id": "57b0e9c7-b682-4a38-ac25-73e25b8f442e",
   "metadata": {},
   "outputs": [
    {
     "name": "stdout",
     "output_type": "stream",
     "text": [
      "0\n",
      "1\n",
      "1\n",
      "2\n",
      "3\n",
      "5\n",
      "8\n",
      "13\n",
      "21\n",
      "34\n"
     ]
    }
   ],
   "source": [
    "fib()"
   ]
  },
  {
   "cell_type": "markdown",
   "id": "b0ea1867-d080-4574-a24b-cc1ea4f47e58",
   "metadata": {},
   "source": [
    "Q.7"
   ]
  },
  {
   "cell_type": "code",
   "execution_count": 21,
   "id": "0f6f6d34-b4dd-42ca-b293-249f6da6fefe",
   "metadata": {},
   "outputs": [
    {
     "data": {
      "text/plain": [
       "['p', 'w', 's', 'k', 'i', 'l', 'l', 's']"
      ]
     },
     "execution_count": 21,
     "metadata": {},
     "output_type": "execute_result"
    }
   ],
   "source": [
    "string = 'pwskills'\n",
    "[i for i in string]"
   ]
  },
  {
   "cell_type": "markdown",
   "id": "1f974b6b-4ec2-48fe-82c8-93b36a8a966a",
   "metadata": {},
   "source": [
    "Q.8"
   ]
  },
  {
   "cell_type": "code",
   "execution_count": 34,
   "id": "8d49ac13-294b-4a39-868f-7d8bbe8a6b1f",
   "metadata": {},
   "outputs": [
    {
     "name": "stdin",
     "output_type": "stream",
     "text": [
      "Enter the number:  121\n"
     ]
    },
    {
     "name": "stdout",
     "output_type": "stream",
     "text": [
      "121 is a palindrome.\n"
     ]
    }
   ],
   "source": [
    "def is_palindrome(number):\n",
    "    temp = number\n",
    "    rev = 0\n",
    "    \n",
    "    while number > 0:\n",
    "        # Get the last digit of the number\n",
    "        dig = number % 10 \n",
    "    \n",
    "        rev = (rev * 10) + dig \n",
    "    \n",
    "        # Remove the last digit from the number\n",
    "        number = number // 10\n",
    "    \n",
    "    if temp == rev:\n",
    "        return True\n",
    "    else:\n",
    "        return False\n",
    "\n",
    "# Test the function\n",
    "num = int(input(\"Enter the number: \"))\n",
    "if is_palindrome(num):\n",
    "    print(num, \"is a palindrome.\")\n",
    "else:\n",
    "    print(num, \"is not a palindrome.\")\n"
   ]
  },
  {
   "cell_type": "markdown",
   "id": "e09ebc75-28de-41c6-b513-5c893e818e8a",
   "metadata": {},
   "source": [
    "Q.9 "
   ]
  },
  {
   "cell_type": "code",
   "execution_count": 35,
   "id": "42df10da-2de1-49e8-8624-9c2d805f814c",
   "metadata": {},
   "outputs": [
    {
     "name": "stdout",
     "output_type": "stream",
     "text": [
      "[1, 3, 5, 7, 9, 11, 13, 15, 17, 19, 21, 23, 25, 27, 29, 31, 33, 35, 37, 39, 41, 43, 45, 47, 49, 51, 53, 55, 57, 59, 61, 63, 65, 67, 69, 71, 73, 75, 77, 79, 81, 83, 85, 87, 89, 91, 93, 95, 97, 99]\n"
     ]
    }
   ],
   "source": [
    "odd_numbers = [num for num in range(1, 101) if num % 2 != 0]\n",
    "\n",
    "print(odd_numbers)"
   ]
  }
 ],
 "metadata": {
  "kernelspec": {
   "display_name": "Python 3 (ipykernel)",
   "language": "python",
   "name": "python3"
  },
  "language_info": {
   "codemirror_mode": {
    "name": "ipython",
    "version": 3
   },
   "file_extension": ".py",
   "mimetype": "text/x-python",
   "name": "python",
   "nbconvert_exporter": "python",
   "pygments_lexer": "ipython3",
   "version": "3.10.8"
  }
 },
 "nbformat": 4,
 "nbformat_minor": 5
}
